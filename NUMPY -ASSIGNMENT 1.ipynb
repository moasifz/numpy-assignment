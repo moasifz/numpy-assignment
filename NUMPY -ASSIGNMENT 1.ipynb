{
  "metadata": {
    "kernelspec": {
      "name": "python",
      "display_name": "Python (Pyodide)",
      "language": "python"
    },
    "language_info": {
      "codemirror_mode": {
        "name": "python",
        "version": 3
      },
      "file_extension": ".py",
      "mimetype": "text/x-python",
      "name": "python",
      "nbconvert_exporter": "python",
      "pygments_lexer": "ipython3",
      "version": "3.8"
    },
    "colab": {
      "provenance": [],
      "mount_file_id": "140iFDH2ztYSTePpA8vV3JOtKc524v49Z",
      "authorship_tag": "ABX9TyMSnMpCwabHbNy8PH+fBzr7"
    }
  },
  "nbformat_minor": 4,
  "nbformat": 4,
  "cells": [
    {
      "cell_type": "markdown",
      "source": "1. Create a 3x3 NumPy array with random integers between 1 and 100. Then, interchange its rows and columns.",
      "metadata": {
        "id": "QfIDghPqbxRm"
      }
    },
    {
      "cell_type": "code",
      "source": "\nimport numpy as np\n\n# Create a 3x3 NumPy array with random integers between 1 and 100\narr = np.random.randint(1, 101, size=(3, 3))\nprint(\"Original Array:\")\nprint(arr)\n\n# Interchange rows and columns (transpose the array)\ntransposed_arr = arr.T\nprint(\"\\nTransposed Array:\")\nprint(transposed_arr)",
      "metadata": {
        "colab": {
          "base_uri": "https://localhost:8080/"
        },
        "id": "Q4os-BDtb2ha",
        "executionInfo": {
          "status": "ok",
          "timestamp": 1726248694775,
          "user_tz": -330,
          "elapsed": 1592,
          "user": {
            "displayName": "Shivanand Pandey",
            "userId": "05136991340005442944"
          }
        },
        "outputId": "dbcc9b1c-a713-4d6e-bb8b-a609bda681eb"
      },
      "outputs": [
        {
          "output_type": "stream",
          "name": "stdout",
          "text": [
            "Original Array:\n",
            "[[38 37 81]\n",
            " [82 89 71]\n",
            " [84  6 19]]\n",
            "\n",
            "Transposed Array:\n",
            "[[38 82 84]\n",
            " [37 89  6]\n",
            " [81 71 19]]\n"
          ]
        }
      ],
      "execution_count": null
    },
    {
      "cell_type": "markdown",
      "source": "2. Generate a 1D NumPy array with 10 elements. Reshape it into a 2x5 array, then into a 5x2 array.",
      "metadata": {
        "id": "mfRWuYtucPAY"
      }
    },
    {
      "cell_type": "code",
      "source": "\nimport numpy as np\n\n# Generate a 1D NumPy array with 10 elements\narr = np.arange(1, 11)\nprint(\"Original 1D Array:\")\nprint(arr)\n\n# Reshape into a 2x5 array\narr_2x5 = arr.reshape(2, 5)\nprint(\"\\nReshaped 2x5 Array:\")\nprint(arr_2x5)\n\n# Reshape into a 5x2 array\narr_5x2 = arr.reshape(5, 2)\nprint(\"\\nReshaped 5x2 Array:\")\nprint(arr_5x2)",
      "metadata": {
        "colab": {
          "base_uri": "https://localhost:8080/"
        },
        "id": "MoL1TvylcVkm",
        "executionInfo": {
          "status": "ok",
          "timestamp": 1726248798671,
          "user_tz": -330,
          "elapsed": 491,
          "user": {
            "displayName": "Shivanand Pandey",
            "userId": "05136991340005442944"
          }
        },
        "outputId": "e50d66dd-3aff-4178-f467-79c8dc6617b3"
      },
      "outputs": [
        {
          "output_type": "stream",
          "name": "stdout",
          "text": [
            "Original 1D Array:\n",
            "[ 1  2  3  4  5  6  7  8  9 10]\n",
            "\n",
            "Reshaped 2x5 Array:\n",
            "[[ 1  2  3  4  5]\n",
            " [ 6  7  8  9 10]]\n",
            "\n",
            "Reshaped 5x2 Array:\n",
            "[[ 1  2]\n",
            " [ 3  4]\n",
            " [ 5  6]\n",
            " [ 7  8]\n",
            " [ 9 10]]\n"
          ]
        }
      ],
      "execution_count": null
    },
    {
      "cell_type": "markdown",
      "source": "3. Create a 4x4 NumPy array with random float values. Add a border of zeros around it, resulting in a 6x6 array.",
      "metadata": {
        "id": "Ik6kRmB_cq7c"
      }
    },
    {
      "cell_type": "code",
      "source": "\nimport numpy as np\n\n# Create a 4x4 NumPy array with random float values\narr = np.random.rand(4, 4)\nprint(\"Original 4x4 Array:\")\nprint(arr)\n\n# Add a border of zeros around the array, resulting in a 6x6 array\nbordered_arr = np.pad(arr, 1, mode='constant')\nprint(\"\\nBordered 6x6 Array:\")\nprint(bordered_arr)",
      "metadata": {
        "colab": {
          "base_uri": "https://localhost:8080/"
        },
        "id": "GEEUhk7YcyhY",
        "executionInfo": {
          "status": "ok",
          "timestamp": 1726248887119,
          "user_tz": -330,
          "elapsed": 495,
          "user": {
            "displayName": "Shivanand Pandey",
            "userId": "05136991340005442944"
          }
        },
        "outputId": "45a2e6d6-75d3-4204-bd5f-2aa1e53d2c75"
      },
      "outputs": [
        {
          "output_type": "stream",
          "name": "stdout",
          "text": [
            "Original 4x4 Array:\n",
            "[[0.27020198 0.05566853 0.57849357 0.04565352]\n",
            " [0.17060919 0.21415749 0.91160084 0.664658  ]\n",
            " [0.1062777  0.23643615 0.23490612 0.20297706]\n",
            " [0.05554198 0.86578937 0.52579142 0.9854154 ]]\n",
            "\n",
            "Bordered 6x6 Array:\n",
            "[[0.         0.         0.         0.         0.         0.        ]\n",
            " [0.         0.27020198 0.05566853 0.57849357 0.04565352 0.        ]\n",
            " [0.         0.17060919 0.21415749 0.91160084 0.664658   0.        ]\n",
            " [0.         0.1062777  0.23643615 0.23490612 0.20297706 0.        ]\n",
            " [0.         0.05554198 0.86578937 0.52579142 0.9854154  0.        ]\n",
            " [0.         0.         0.         0.         0.         0.        ]]\n"
          ]
        }
      ],
      "execution_count": null
    },
    {
      "cell_type": "markdown",
      "source": "4. Using NumPy, create an array of integers from 10 to 60 with a step of 5.",
      "metadata": {
        "id": "XZQCec1lc8Cg"
      }
    },
    {
      "cell_type": "code",
      "source": "\nimport numpy as np\n\n# Create an array of integers from 10 to 60 with a step of 5\narr = np.arange(10, 61, 5)\nprint(arr)",
      "metadata": {
        "colab": {
          "base_uri": "https://localhost:8080/"
        },
        "id": "LxOjd5qSc52_",
        "executionInfo": {
          "status": "ok",
          "timestamp": 1726248968439,
          "user_tz": -330,
          "elapsed": 489,
          "user": {
            "displayName": "Shivanand Pandey",
            "userId": "05136991340005442944"
          }
        },
        "outputId": "ad1ed6f3-7c90-488a-a5ff-14f8938ec879"
      },
      "outputs": [
        {
          "output_type": "stream",
          "name": "stdout",
          "text": [
            "[10 15 20 25 30 35 40 45 50 55 60]\n"
          ]
        }
      ],
      "execution_count": null
    },
    {
      "cell_type": "markdown",
      "source": "6. Generate a NumPy array of words. Insert a space between each character of every word in the array.",
      "metadata": {
        "id": "YrRLneaWeKu0"
      }
    },
    {
      "cell_type": "code",
      "source": "import numpy as np\n\n# Create a NumPy array of words\nwords = np.array(['apple', 'banana', 'cherry'])\n\n# Insert a space between each character of every word\nspaced_words = np.char.join(' ', words)\n\nprint(spaced_words)",
      "metadata": {
        "colab": {
          "base_uri": "https://localhost:8080/"
        },
        "id": "J_jEhw8beQAW",
        "executionInfo": {
          "status": "ok",
          "timestamp": 1726249243938,
          "user_tz": -330,
          "elapsed": 444,
          "user": {
            "displayName": "Shivanand Pandey",
            "userId": "05136991340005442944"
          }
        },
        "outputId": "d76ed6c5-2140-4be9-9ccf-0e541b4527f7"
      },
      "outputs": [
        {
          "output_type": "stream",
          "name": "stdout",
          "text": [
            "['a p p l e' 'b a n a n a' 'c h e r r y']\n"
          ]
        }
      ],
      "execution_count": null
    },
    {
      "cell_type": "markdown",
      "source": "7. Create two 2D NumPy arrays and perform element-wise addition, subtraction, multiplication, and division.",
      "metadata": {
        "id": "3_nIHwT0ea3F"
      }
    },
    {
      "cell_type": "code",
      "source": "import numpy as np\n\n# Create two 2D NumPy arrays\narray1 = np.array([[1, 2, 3], [4, 5, 6]])\narray2 = np.array([[7, 8, 9], [10, 11, 12]])\n\n# Perform element-wise addition\naddition = array1 + array2\nprint(\"Addition:\\n\", addition)\n\n# Perform element-wise subtraction\nsubtraction = array1 - array2\nprint(\"Subtraction:\\n\", subtraction)\n\n# Perform element-wise multiplication\nmultiplication = array1 * array2\nprint(\"Multiplication:\\n\", multiplication)\n\n# Perform element-wise division\ndivision = array1 / array2\nprint(\"Division:\\n\", division)",
      "metadata": {
        "colab": {
          "base_uri": "https://localhost:8080/"
        },
        "id": "zDHTB1kBeef7",
        "executionInfo": {
          "status": "ok",
          "timestamp": 1726249302466,
          "user_tz": -330,
          "elapsed": 517,
          "user": {
            "displayName": "Shivanand Pandey",
            "userId": "05136991340005442944"
          }
        },
        "outputId": "d8643288-1093-432e-caff-cfde39ceabf9"
      },
      "outputs": [
        {
          "output_type": "stream",
          "name": "stdout",
          "text": [
            "Addition:\n",
            " [[ 8 10 12]\n",
            " [14 16 18]]\n",
            "Subtraction:\n",
            " [[-6 -6 -6]\n",
            " [-6 -6 -6]]\n",
            "Multiplication:\n",
            " [[ 7 16 27]\n",
            " [40 55 72]]\n",
            "Division:\n",
            " [[0.14285714 0.25       0.33333333]\n",
            " [0.4        0.45454545 0.5       ]]\n"
          ]
        }
      ],
      "execution_count": null
    },
    {
      "cell_type": "markdown",
      "source": "8. Use NumPy to create a 5x5 identity matrix, then extract its diagonal elements.",
      "metadata": {
        "id": "B9UdEGHaepx5"
      }
    },
    {
      "cell_type": "code",
      "source": "import numpy as np\n\n# Create a 5x5 identity matrix\nidentity_matrix = np.eye(5)\n\n# Extract the diagonal elements\ndiagonal_elements = identity_matrix.diagonal()\n\nprint(\"Identity Matrix:\\n\", identity_matrix)\nprint(\"Diagonal Elements:\", diagonal_elements)",
      "metadata": {
        "colab": {
          "base_uri": "https://localhost:8080/"
        },
        "id": "vmieN36GevMg",
        "executionInfo": {
          "status": "ok",
          "timestamp": 1726249401077,
          "user_tz": -330,
          "elapsed": 652,
          "user": {
            "displayName": "Shivanand Pandey",
            "userId": "05136991340005442944"
          }
        },
        "outputId": "b9db9537-3eb3-4c9e-848a-5f34fb8070a4"
      },
      "outputs": [
        {
          "output_type": "stream",
          "name": "stdout",
          "text": [
            "Identity Matrix:\n",
            " [[1. 0. 0. 0. 0.]\n",
            " [0. 1. 0. 0. 0.]\n",
            " [0. 0. 1. 0. 0.]\n",
            " [0. 0. 0. 1. 0.]\n",
            " [0. 0. 0. 0. 1.]]\n",
            "Diagonal Elements: [1. 1. 1. 1. 1.]\n"
          ]
        }
      ],
      "execution_count": null
    },
    {
      "cell_type": "code",
      "source": "",
      "metadata": {
        "id": "RXTZAUVZe3Vx"
      },
      "outputs": [],
      "execution_count": null
    },
    {
      "cell_type": "markdown",
      "source": "9. Generate a NumPy array of 100 random integers between 0 and 1000. Find and display all prime numbers in\nthis array.",
      "metadata": {
        "id": "Y5PlJtUOe5rZ"
      }
    },
    {
      "cell_type": "code",
      "source": "import numpy as np\n\ndef is_prime(num):\n  if num <= 1:\n    return False\n  if num <= 3:\n    return True\n  if num % 2 == 0 or num % 3 == 0:\n    return False\n  i = 5\n  while i * i <= num:\n    if num % i == 0 or num % (i + 2) == 0:\n      return False\n    i += 6\n  return True\n\n# Generate a NumPy array of 100 random integers\nrandom_array = np.random.randint(0, 1001, 100)\n\n# Find prime numbers\nprime_numbers = np.extract(np.vectorize(is_prime)(random_array), random_array)\n\nprint(\"Random Array:\", random_array)\nprint(\"Prime Numbers:\", prime_numbers)",
      "metadata": {
        "colab": {
          "base_uri": "https://localhost:8080/"
        },
        "id": "1FDYGIswe9yf",
        "executionInfo": {
          "status": "ok",
          "timestamp": 1726249447372,
          "user_tz": -330,
          "elapsed": 499,
          "user": {
            "displayName": "Shivanand Pandey",
            "userId": "05136991340005442944"
          }
        },
        "outputId": "81334444-7c26-4481-8f62-cb5edc3729ad"
      },
      "outputs": [
        {
          "output_type": "stream",
          "name": "stdout",
          "text": [
            "Random Array: [125 944 111 575 363  39 493 514 488 350 839 380 917 612 738 288 495 350\n",
            " 200 538 948 500  28 876  93 364 385 300 547 248 462   9 183 656  33 999\n",
            " 477 238 208 237 805 621 959 308 379 418 286 928 597 536 777 469 336 437\n",
            " 257 380 958 337 189 120 788  66 293 362 358 107  74 560 258 767   9 777\n",
            " 699 397 623 720 805 679 744 403 102 249 571 333 683 708 744 281 418 342\n",
            " 610 641 682 177 805 670 731  88 761 152]\n",
            "Prime Numbers: [839 547 379 257 337 293 107 397 571 683 281 641 761]\n"
          ]
        }
      ],
      "execution_count": null
    },
    {
      "cell_type": "markdown",
      "source": "10-Create a numpy array representing daily temperature for a month.Calculate and display the weekly averages.\n\n",
      "metadata": {
        "id": "9t8Cg2UifgmN"
      }
    },
    {
      "cell_type": "code",
      "source": "# create a Numpy array representing daily temperatures for a month (30 days)\ndaily_temperatures = np.random.uniform(low=15, high=35, size=30)\n\n# reshape the array into weeks (4 weeks with 7 days each, plus extra 2 days)\nweeks = daily_temperatures[ :28].reshape(4, 7)\nextra_days = daily_temperatures[28:]\n\n# calculate weekly averages\nweekly_averages = np.mean(weeks, axis=1)\n\n# display the daily temperatures and weekly averages\ndaily_temperatures,wee",
      "metadata": {
        "trusted": true
      },
      "outputs": [],
      "execution_count": null
    },
    {
      "cell_type": "code",
      "source": "",
      "metadata": {
        "trusted": true
      },
      "outputs": [],
      "execution_count": null
    },
    {
      "cell_type": "code",
      "source": "",
      "metadata": {
        "trusted": true
      },
      "outputs": [],
      "execution_count": null
    }
  ]
}